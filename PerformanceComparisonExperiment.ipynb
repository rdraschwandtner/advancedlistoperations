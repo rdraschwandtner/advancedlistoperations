{
 "cells": [
  {
   "cell_type": "markdown",
   "metadata": {},
   "source": [
    "Compare the computation time of algorithmns able to do elementwise mathematical operations on arbitrarily shaped lists.\n",
    "\n",
    "Author: rdraschwandtner\n",
    "\n",
    "TODO add github link"
   ]
  },
  {
   "cell_type": "markdown",
   "metadata": {},
   "source": [
    "### Setup"
   ]
  },
  {
   "cell_type": "code",
   "execution_count": 1,
   "metadata": {},
   "outputs": [],
   "source": [
    "import operator\n",
    "import functools\n",
    "import numpy as np\n",
    "import pandas as pd\n",
    "import timeit"
   ]
  },
  {
   "cell_type": "code",
   "execution_count": 2,
   "metadata": {},
   "outputs": [],
   "source": [
    "a = [ 1,  2,  3,  4, [ 5,  6,  7,  8]]\n",
    "b = [10, 20, 30, 40, [50, 60, 70, 80]]\n",
    "\n",
    "depth_fact = 6"
   ]
  },
  {
   "cell_type": "code",
   "execution_count": 3,
   "metadata": {},
   "outputs": [],
   "source": [
    "def appendlst_toelemoflst(lst): \n",
    "    return list(map(lambda el:[el,lst], lst)) "
   ]
  },
  {
   "cell_type": "code",
   "execution_count": 4,
   "metadata": {},
   "outputs": [
    {
     "name": "stdout",
     "output_type": "stream",
     "text": [
      "# of lists: 1\n"
     ]
    }
   ],
   "source": [
    "def count_numoflists(lst, list_cnt = 0):\n",
    "    for elem in lst:\n",
    "        if type(elem) == list:\n",
    "            list_cnt = count_numoflists(elem, list_cnt +1)\n",
    "    return list_cnt\n",
    "\n",
    "print('# of lists: ' + str(count_numoflists(a)))"
   ]
  },
  {
   "cell_type": "markdown",
   "metadata": {},
   "source": [
    "### Map fct"
   ]
  },
  {
   "cell_type": "code",
   "execution_count": 5,
   "metadata": {},
   "outputs": [],
   "source": [
    "def elementwise_map_listoperation_wrapper(lhs, rhs, op):\n",
    "    # bind operator-function to function call. Functions are not iterable, so map() would throw an error.\n",
    "    return list(map(functools.partial(listoperation,op=op), lhs, rhs)) # https://stackoverflow.com/questions/10314859/applying-map-for-partial-argument\n",
    "\n",
    "def listoperation(lhs, rhs, op):\n",
    "    if type(lhs) == list:\n",
    "        return elementwise_map_listoperation_wrapper(lhs, rhs, op)\n",
    "    else:\n",
    "        return lhs + rhs"
   ]
  },
  {
   "cell_type": "code",
   "execution_count": 6,
   "metadata": {},
   "outputs": [
    {
     "data": {
      "text/plain": [
       "1.8199999999524152e-05"
      ]
     },
     "execution_count": 6,
     "metadata": {},
     "output_type": "execute_result"
    }
   ],
   "source": [
    "timeit.timeit('elementwise_map_listoperation_wrapper(a, b, operator.add)', globals=globals(), number=1)"
   ]
  },
  {
   "cell_type": "markdown",
   "metadata": {},
   "source": [
    "### Fct List comprehension\n",
    "https://stackoverflow.com/a/57615641/11963667"
   ]
  },
  {
   "cell_type": "code",
   "execution_count": 7,
   "metadata": {},
   "outputs": [],
   "source": [
    "def element_wise_lstcompfct(a, b, f):\n",
    "    return [element_wise_lstcompfct(i, j, f) if type(i) == list and type(j) == list else f(i, j) for i, j in zip(a, b)]"
   ]
  },
  {
   "cell_type": "code",
   "execution_count": 8,
   "metadata": {},
   "outputs": [
    {
     "data": {
      "text/plain": [
       "1.4800000002423985e-05"
      ]
     },
     "execution_count": 8,
     "metadata": {},
     "output_type": "execute_result"
    }
   ],
   "source": [
    "timeit.timeit('element_wise_lstcompfct(a, b, operator.add)', globals=globals(), number=1)"
   ]
  },
  {
   "cell_type": "markdown",
   "metadata": {},
   "source": [
    "### Lambda list comprehension"
   ]
  },
  {
   "cell_type": "code",
   "execution_count": 9,
   "metadata": {},
   "outputs": [],
   "source": [
    "element_wise_lstcomplambda = lambda lhs, rhs, op: [element_wise_lstcomplambda(i,j,op) if type(i)==list and type(j) == list else op(i,j) for i, j in zip(lhs, rhs)]"
   ]
  },
  {
   "cell_type": "code",
   "execution_count": 10,
   "metadata": {},
   "outputs": [
    {
     "data": {
      "text/plain": [
       "1.4500000006023583e-05"
      ]
     },
     "execution_count": 10,
     "metadata": {},
     "output_type": "execute_result"
    }
   ],
   "source": [
    "timeit.timeit('element_wise_lstcomplambda(a, b, operator.add)', globals=globals(), number=1)"
   ]
  },
  {
   "cell_type": "markdown",
   "metadata": {},
   "source": [
    "## Trial"
   ]
  },
  {
   "cell_type": "code",
   "execution_count": 11,
   "metadata": {},
   "outputs": [
    {
     "name": "stdout",
     "output_type": "stream",
     "text": [
      "level: 0\n",
      "level: 1\n",
      "level: 2\n",
      "level: 3\n",
      "level: 4\n",
      "level: 5\n"
     ]
    }
   ],
   "source": [
    "result_df = pd.DataFrame()\n",
    "for level in range(depth_fact):\n",
    "    print('level: ' + str(level))\n",
    "    tmp_df = pd.DataFrame()\n",
    "    tmp_df['num_of_lists'] = [count_numoflists(a)]\n",
    "    \n",
    "    times_map = timeit.repeat('elementwise_map_listoperation_wrapper(a, b, operator.add)', globals=globals(), number=1, repeat=10)\n",
    "    tmp_df['avg_exectime_map'] = [np.mean(times_map)]\n",
    "    tmp_df['min_exectime_map'] = [np.min(times_map)]\n",
    "    tmp_df['max_exectime_map'] = [np.max(times_map)]\n",
    "\n",
    "    times_lstcompfct = timeit.repeat('element_wise_lstcompfct(a, b, operator.add)', globals=globals(), number=1, repeat=10)\n",
    "    tmp_df['avg_exectime_lstcompfct'] = [np.mean(times_lstcompfct)]\n",
    "    tmp_df['min_exectime_lstcompfct'] = [np.min(times_lstcompfct)]\n",
    "    tmp_df['max_exectime_lstcompfct'] = [np.max(times_lstcompfct)]\n",
    "\n",
    "    times_lstcomplambda = timeit.repeat('element_wise_lstcomplambda(a, b, operator.add)', globals=globals(), number=1, repeat=10)\n",
    "    tmp_df['avg_exectime_lstcomplambda'] = [np.mean(times_lstcomplambda)]\n",
    "    tmp_df['min_exectime_lstcomplambda'] = [np.min(times_lstcomplambda)]\n",
    "    tmp_df['max_exectime_lstcomplambda'] = [np.max(times_lstcomplambda)]\n",
    "    \n",
    "    result_df = result_df.append(tmp_df)\n",
    "    \n",
    "    # make the lists deeper for the next round\n",
    "    a = appendlst_toelemoflst(a)\n",
    "    b = appendlst_toelemoflst(b)\n"
   ]
  },
  {
   "cell_type": "markdown",
   "metadata": {},
   "source": [
    "## Results"
   ]
  },
  {
   "cell_type": "code",
   "execution_count": 12,
   "metadata": {},
   "outputs": [],
   "source": [
    "import matplotlib.pyplot as plt\n",
    "#%matplotlib widget\n",
    "# %matplotlib notebook\n",
    "import seaborn as sns\n",
    "sns.set()"
   ]
  },
  {
   "cell_type": "code",
   "execution_count": 13,
   "metadata": {},
   "outputs": [
    {
     "data": {
      "text/html": [
       "<div>\n",
       "<style scoped>\n",
       "    .dataframe tbody tr th:only-of-type {\n",
       "        vertical-align: middle;\n",
       "    }\n",
       "\n",
       "    .dataframe tbody tr th {\n",
       "        vertical-align: top;\n",
       "    }\n",
       "\n",
       "    .dataframe thead th {\n",
       "        text-align: right;\n",
       "    }\n",
       "</style>\n",
       "<table border=\"1\" class=\"dataframe\">\n",
       "  <thead>\n",
       "    <tr style=\"text-align: right;\">\n",
       "      <th></th>\n",
       "      <th>num_of_lists</th>\n",
       "      <th>avg_exectime_map</th>\n",
       "      <th>min_exectime_map</th>\n",
       "      <th>max_exectime_map</th>\n",
       "      <th>avg_exectime_lstcompfct</th>\n",
       "      <th>min_exectime_lstcompfct</th>\n",
       "      <th>max_exectime_lstcompfct</th>\n",
       "      <th>avg_exectime_lstcomplambda</th>\n",
       "      <th>min_exectime_lstcomplambda</th>\n",
       "      <th>max_exectime_lstcomplambda</th>\n",
       "    </tr>\n",
       "  </thead>\n",
       "  <tbody>\n",
       "    <tr>\n",
       "      <th>0</th>\n",
       "      <td>1</td>\n",
       "      <td>0.000013</td>\n",
       "      <td>0.000011</td>\n",
       "      <td>0.000021</td>\n",
       "      <td>0.000009</td>\n",
       "      <td>0.000008</td>\n",
       "      <td>0.000017</td>\n",
       "      <td>0.000009</td>\n",
       "      <td>0.000008</td>\n",
       "      <td>0.000014</td>\n",
       "    </tr>\n",
       "    <tr>\n",
       "      <th>0</th>\n",
       "      <td>16</td>\n",
       "      <td>0.000065</td>\n",
       "      <td>0.000063</td>\n",
       "      <td>0.000078</td>\n",
       "      <td>0.000049</td>\n",
       "      <td>0.000046</td>\n",
       "      <td>0.000059</td>\n",
       "      <td>0.000052</td>\n",
       "      <td>0.000046</td>\n",
       "      <td>0.000074</td>\n",
       "    </tr>\n",
       "    <tr>\n",
       "      <th>0</th>\n",
       "      <td>106</td>\n",
       "      <td>0.000385</td>\n",
       "      <td>0.000374</td>\n",
       "      <td>0.000416</td>\n",
       "      <td>0.000275</td>\n",
       "      <td>0.000269</td>\n",
       "      <td>0.000285</td>\n",
       "      <td>0.000270</td>\n",
       "      <td>0.000264</td>\n",
       "      <td>0.000279</td>\n",
       "    </tr>\n",
       "    <tr>\n",
       "      <th>0</th>\n",
       "      <td>646</td>\n",
       "      <td>0.002339</td>\n",
       "      <td>0.002282</td>\n",
       "      <td>0.002430</td>\n",
       "      <td>0.001628</td>\n",
       "      <td>0.001619</td>\n",
       "      <td>0.001667</td>\n",
       "      <td>0.001651</td>\n",
       "      <td>0.001571</td>\n",
       "      <td>0.002165</td>\n",
       "    </tr>\n",
       "    <tr>\n",
       "      <th>0</th>\n",
       "      <td>3886</td>\n",
       "      <td>0.016026</td>\n",
       "      <td>0.013857</td>\n",
       "      <td>0.031093</td>\n",
       "      <td>0.009443</td>\n",
       "      <td>0.008947</td>\n",
       "      <td>0.010021</td>\n",
       "      <td>0.009598</td>\n",
       "      <td>0.009350</td>\n",
       "      <td>0.010511</td>\n",
       "    </tr>\n",
       "    <tr>\n",
       "      <th>0</th>\n",
       "      <td>23326</td>\n",
       "      <td>0.090868</td>\n",
       "      <td>0.084697</td>\n",
       "      <td>0.107371</td>\n",
       "      <td>0.084059</td>\n",
       "      <td>0.061380</td>\n",
       "      <td>0.185024</td>\n",
       "      <td>0.064029</td>\n",
       "      <td>0.057942</td>\n",
       "      <td>0.102519</td>\n",
       "    </tr>\n",
       "  </tbody>\n",
       "</table>\n",
       "</div>"
      ],
      "text/plain": [
       "   num_of_lists  avg_exectime_map  min_exectime_map  max_exectime_map  \\\n",
       "0             1          0.000013          0.000011          0.000021   \n",
       "0            16          0.000065          0.000063          0.000078   \n",
       "0           106          0.000385          0.000374          0.000416   \n",
       "0           646          0.002339          0.002282          0.002430   \n",
       "0          3886          0.016026          0.013857          0.031093   \n",
       "0         23326          0.090868          0.084697          0.107371   \n",
       "\n",
       "   avg_exectime_lstcompfct  min_exectime_lstcompfct  max_exectime_lstcompfct  \\\n",
       "0                 0.000009                 0.000008                 0.000017   \n",
       "0                 0.000049                 0.000046                 0.000059   \n",
       "0                 0.000275                 0.000269                 0.000285   \n",
       "0                 0.001628                 0.001619                 0.001667   \n",
       "0                 0.009443                 0.008947                 0.010021   \n",
       "0                 0.084059                 0.061380                 0.185024   \n",
       "\n",
       "   avg_exectime_lstcomplambda  min_exectime_lstcomplambda  \\\n",
       "0                    0.000009                    0.000008   \n",
       "0                    0.000052                    0.000046   \n",
       "0                    0.000270                    0.000264   \n",
       "0                    0.001651                    0.001571   \n",
       "0                    0.009598                    0.009350   \n",
       "0                    0.064029                    0.057942   \n",
       "\n",
       "   max_exectime_lstcomplambda  \n",
       "0                    0.000014  \n",
       "0                    0.000074  \n",
       "0                    0.000279  \n",
       "0                    0.002165  \n",
       "0                    0.010511  \n",
       "0                    0.102519  "
      ]
     },
     "execution_count": 13,
     "metadata": {},
     "output_type": "execute_result"
    }
   ],
   "source": [
    "result_df"
   ]
  },
  {
   "cell_type": "code",
   "execution_count": 14,
   "metadata": {},
   "outputs": [
    {
     "data": {
      "text/plain": [
       "Text(0.5, 1.0, 'Elementwise-sum of two lists')"
      ]
     },
     "execution_count": 14,
     "metadata": {},
     "output_type": "execute_result"
    },
    {
     "data": {
      "image/png": "[encoded data removed]",
      "text/plain": [
       "<Figure size 432x288 with 1 Axes>"
      ]
     },
     "metadata": {
      "needs_background": "light"
     },
     "output_type": "display_data"
    }
   ],
   "source": [
    "plt.plot(result_df['num_of_lists'], result_df['avg_exectime_map'],marker='.')\n",
    "plt.fill_between(result_df['num_of_lists'],result_df['min_exectime_map'],result_df['max_exectime_map'], alpha = 0.3)\n",
    "plt.plot(result_df['num_of_lists'], result_df['avg_exectime_lstcompfct'],marker='.')\n",
    "plt.fill_between(result_df['num_of_lists'],result_df['min_exectime_lstcompfct'],result_df['max_exectime_lstcompfct'], alpha = 0.3)\n",
    "plt.plot(result_df['num_of_lists'], result_df['avg_exectime_lstcomplambda'],marker='.')\n",
    "plt.fill_between(result_df['num_of_lists'],result_df['min_exectime_lstcomplambda'],result_df['max_exectime_lstcomplambda'], alpha = 0.3)\n",
    "plt.xlabel('# of lists')\n",
    "plt.ylabel('execution time (s)')\n",
    "plt.legend(['map','lstcompfct','lstcomplambda'])\n",
    "plt.title('Elementwise-sum of two lists')"
   ]
  },
  {
   "cell_type": "code",
   "execution_count": 16,
   "metadata": {},
   "outputs": [
    {
     "data": {
      "text/plain": [
       "Text(0.5, 1.0, 'Log-Log Elementwise-sum of two lists')"
      ]
     },
     "execution_count": 16,
     "metadata": {},
     "output_type": "execute_result"
    },
    {
     "data": {
      "image/png": "[encoded data removed]",
      "text/plain": [
       "<Figure size 432x288 with 1 Axes>"
      ]
     },
     "metadata": {
      "needs_background": "light"
     },
     "output_type": "display_data"
    }
   ],
   "source": [
    "plt.plot(np.log(result_df['num_of_lists']), np.log(result_df['avg_exectime_map']),marker='.')\n",
    "plt.fill_between(np.log(result_df['num_of_lists']),np.log(result_df['min_exectime_map']),np.log(result_df['max_exectime_map']), alpha = 0.3)\n",
    "plt.plot(np.log(result_df['num_of_lists']), np.log(result_df['avg_exectime_lstcompfct']),marker='.')\n",
    "plt.fill_between(np.log(result_df['num_of_lists']),np.log(result_df['min_exectime_lstcompfct']),np.log(result_df['max_exectime_lstcompfct']), alpha = 0.3)\n",
    "plt.plot(np.log(result_df['num_of_lists']), np.log(result_df['avg_exectime_lstcomplambda']),marker='.')\n",
    "plt.fill_between(np.log(result_df['num_of_lists']),np.log(result_df['min_exectime_lstcomplambda']),np.log(result_df['max_exectime_lstcomplambda']), alpha = 0.3)\n",
    "plt.xlabel('# of lists (log)')\n",
    "plt.ylabel('execution time (log s)')\n",
    "plt.legend(['map','lstcompfct','lstcomplambda'])\n",
    "plt.title('Log-Log Elementwise-sum of two lists')"
   ]
  },
  {
   "cell_type": "markdown",
   "metadata": {},
   "source": [
    "Average, minimum and maximum values of each repitition are shown.\n",
    "One can see that map is slower than lstcompfct and lstcomplambda.\n",
    "There is no visible difference between lstcompfct and lstcomplambda."
   ]
  },
  {
   "cell_type": "markdown",
   "metadata": {},
   "source": [
    "TODO test significance"
   ]
  },
  {
   "cell_type": "markdown",
   "metadata": {},
   "source": [
    "### Appendix"
   ]
  },
  {
   "cell_type": "code",
   "execution_count": 19,
   "metadata": {},
   "outputs": [],
   "source": [
    "#!pip freeze"
   ]
  },
  {
   "cell_type": "code",
   "execution_count": 21,
   "metadata": {},
   "outputs": [
    {
     "data": {
      "text/plain": [
       "uname_result(system='Windows', node='Rene-PC', release='10', version='10.0.18362', machine='AMD64', processor='Intel64 Family 6 Model 23 Stepping 10, GenuineIntel')"
      ]
     },
     "execution_count": 21,
     "metadata": {},
     "output_type": "execute_result"
    }
   ],
   "source": [
    "import platform\n",
    "platform.uname()"
   ]
  }
 ],
 "metadata": {
  "kernelspec": {
   "display_name": "Python 3",
   "language": "python",
   "name": "python3"
  },
  "language_info": {
   "codemirror_mode": {
    "name": "ipython",
    "version": 3
   },
   "file_extension": ".py",
   "mimetype": "text/x-python",
   "name": "python",
   "nbconvert_exporter": "python",
   "pygments_lexer": "ipython3",
   "version": "3.7.3"
  }
 },
 "nbformat": 4,
 "nbformat_minor": 4
}
